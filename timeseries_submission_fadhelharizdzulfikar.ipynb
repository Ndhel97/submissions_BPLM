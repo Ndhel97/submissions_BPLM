{
  "nbformat": 4,
  "nbformat_minor": 0,
  "metadata": {
    "colab": {
      "name": "timeseries-submission-fadhelharizdzulfikar.ipynb",
      "provenance": [],
      "collapsed_sections": [],
      "toc_visible": true
    },
    "kernelspec": {
      "display_name": "Python 3",
      "name": "python3"
    },
    "accelerator": "GPU"
  },
  "cells": [
    {
      "cell_type": "code",
      "metadata": {
        "id": "vlUpR6WBgle-",
        "colab_type": "code",
        "colab": {
          "base_uri": "https://localhost:8080/",
          "height": 34
        },
        "outputId": "f7e125ae-be60-4d25-a899-ed281313026c"
      },
      "source": [
        "from google.colab import drive\n",
        "drive.mount('/content/drive')"
      ],
      "execution_count": null,
      "outputs": [
        {
          "output_type": "stream",
          "text": [
            "Drive already mounted at /content/drive; to attempt to forcibly remount, call drive.mount(\"/content/drive\", force_remount=True).\n"
          ],
          "name": "stdout"
        }
      ]
    },
    {
      "cell_type": "code",
      "metadata": {
        "id": "gRmBJf7zsHwP",
        "colab_type": "code",
        "colab": {}
      },
      "source": [
        "import matplotlib.pyplot as plt\n",
        "import pandas as pd\n",
        "import numpy as np\n",
        "import tensorflow as tf\n",
        "\n",
        "import keras\n",
        "from keras.models import Sequential\n",
        "from keras.layers import Dense\n",
        "from keras.layers import LSTM\n",
        "from keras.layers import Dropout\n",
        "from keras.layers import *\n",
        "from sklearn.metrics import mean_squared_error\n",
        "from sklearn.metrics import mean_absolute_error\n",
        "from keras.callbacks import EarlyStopping"
      ],
      "execution_count": null,
      "outputs": []
    },
    {
      "cell_type": "markdown",
      "metadata": {
        "id": "lFUAKfCIsReJ",
        "colab_type": "text"
      },
      "source": [
        "Read the data and save it as a dataframe. Date and Time columns are merged into dt column in datetime format. Values with Nan and ? are treated equally as strings. \n",
        "Data Resource: https://www.kaggle.com/uciml/electric-power-consumption-data-set"
      ]
    },
    {
      "cell_type": "code",
      "metadata": {
        "id": "P8CYJgtFsUQU",
        "colab_type": "code",
        "colab": {
          "base_uri": "https://localhost:8080/",
          "height": 225
        },
        "outputId": "853b4b1c-fdae-48bb-8e9e-636edb9b1ba2"
      },
      "source": [
        "df = pd.read_csv('/content/drive/My Drive/Dicoding/Belajar Pengembangan Machine Learning/household_power_consumption.txt', sep=';', \n",
        "                 parse_dates={'dt' : ['Date', 'Time']}, infer_datetime_format=True, \n",
        "                 low_memory=False, na_values=['nan','?'], index_col='dt')\n",
        "\n",
        "df.head()"
      ],
      "execution_count": null,
      "outputs": [
        {
          "output_type": "execute_result",
          "data": {
            "text/html": [
              "<div>\n",
              "<style scoped>\n",
              "    .dataframe tbody tr th:only-of-type {\n",
              "        vertical-align: middle;\n",
              "    }\n",
              "\n",
              "    .dataframe tbody tr th {\n",
              "        vertical-align: top;\n",
              "    }\n",
              "\n",
              "    .dataframe thead th {\n",
              "        text-align: right;\n",
              "    }\n",
              "</style>\n",
              "<table border=\"1\" class=\"dataframe\">\n",
              "  <thead>\n",
              "    <tr style=\"text-align: right;\">\n",
              "      <th></th>\n",
              "      <th>Global_active_power</th>\n",
              "      <th>Global_reactive_power</th>\n",
              "      <th>Voltage</th>\n",
              "      <th>Global_intensity</th>\n",
              "      <th>Sub_metering_1</th>\n",
              "      <th>Sub_metering_2</th>\n",
              "      <th>Sub_metering_3</th>\n",
              "    </tr>\n",
              "    <tr>\n",
              "      <th>dt</th>\n",
              "      <th></th>\n",
              "      <th></th>\n",
              "      <th></th>\n",
              "      <th></th>\n",
              "      <th></th>\n",
              "      <th></th>\n",
              "      <th></th>\n",
              "    </tr>\n",
              "  </thead>\n",
              "  <tbody>\n",
              "    <tr>\n",
              "      <th>2006-12-16 17:24:00</th>\n",
              "      <td>4.216</td>\n",
              "      <td>0.418</td>\n",
              "      <td>234.84</td>\n",
              "      <td>18.4</td>\n",
              "      <td>0.0</td>\n",
              "      <td>1.0</td>\n",
              "      <td>17.0</td>\n",
              "    </tr>\n",
              "    <tr>\n",
              "      <th>2006-12-16 17:25:00</th>\n",
              "      <td>5.360</td>\n",
              "      <td>0.436</td>\n",
              "      <td>233.63</td>\n",
              "      <td>23.0</td>\n",
              "      <td>0.0</td>\n",
              "      <td>1.0</td>\n",
              "      <td>16.0</td>\n",
              "    </tr>\n",
              "    <tr>\n",
              "      <th>2006-12-16 17:26:00</th>\n",
              "      <td>5.374</td>\n",
              "      <td>0.498</td>\n",
              "      <td>233.29</td>\n",
              "      <td>23.0</td>\n",
              "      <td>0.0</td>\n",
              "      <td>2.0</td>\n",
              "      <td>17.0</td>\n",
              "    </tr>\n",
              "    <tr>\n",
              "      <th>2006-12-16 17:27:00</th>\n",
              "      <td>5.388</td>\n",
              "      <td>0.502</td>\n",
              "      <td>233.74</td>\n",
              "      <td>23.0</td>\n",
              "      <td>0.0</td>\n",
              "      <td>1.0</td>\n",
              "      <td>17.0</td>\n",
              "    </tr>\n",
              "    <tr>\n",
              "      <th>2006-12-16 17:28:00</th>\n",
              "      <td>3.666</td>\n",
              "      <td>0.528</td>\n",
              "      <td>235.68</td>\n",
              "      <td>15.8</td>\n",
              "      <td>0.0</td>\n",
              "      <td>1.0</td>\n",
              "      <td>17.0</td>\n",
              "    </tr>\n",
              "  </tbody>\n",
              "</table>\n",
              "</div>"
            ],
            "text/plain": [
              "                     Global_active_power  ...  Sub_metering_3\n",
              "dt                                        ...                \n",
              "2006-12-16 17:24:00                4.216  ...            17.0\n",
              "2006-12-16 17:25:00                5.360  ...            16.0\n",
              "2006-12-16 17:26:00                5.374  ...            17.0\n",
              "2006-12-16 17:27:00                5.388  ...            17.0\n",
              "2006-12-16 17:28:00                3.666  ...            17.0\n",
              "\n",
              "[5 rows x 7 columns]"
            ]
          },
          "metadata": {
            "tags": []
          },
          "execution_count": 3
        }
      ]
    },
    {
      "cell_type": "markdown",
      "metadata": {
        "id": "l1N6hTehsWor",
        "colab_type": "text"
      },
      "source": [
        "Fill Nan values with mean of each columns."
      ]
    },
    {
      "cell_type": "code",
      "metadata": {
        "id": "rlR-yByPsYQL",
        "colab_type": "code",
        "colab": {}
      },
      "source": [
        "for j in range(0,7):        \n",
        "        df.iloc[:,j]=df.iloc[:,j].fillna(df.iloc[:,j].mean())"
      ],
      "execution_count": null,
      "outputs": []
    },
    {
      "cell_type": "markdown",
      "metadata": {
        "id": "pryaAO4ZsaZK",
        "colab_type": "text"
      },
      "source": [
        "Check if there is anymore Nan values in the dataframe."
      ]
    },
    {
      "cell_type": "code",
      "metadata": {
        "id": "pInORa4GscCy",
        "colab_type": "code",
        "colab": {
          "base_uri": "https://localhost:8080/",
          "height": 151
        },
        "outputId": "f2fcc0fd-4b02-4f75-d1a1-52edca14c746"
      },
      "source": [
        "df.isnull().sum()"
      ],
      "execution_count": null,
      "outputs": [
        {
          "output_type": "execute_result",
          "data": {
            "text/plain": [
              "Global_active_power      0\n",
              "Global_reactive_power    0\n",
              "Voltage                  0\n",
              "Global_intensity         0\n",
              "Sub_metering_1           0\n",
              "Sub_metering_2           0\n",
              "Sub_metering_3           0\n",
              "dtype: int64"
            ]
          },
          "metadata": {
            "tags": []
          },
          "execution_count": 5
        }
      ]
    },
    {
      "cell_type": "markdown",
      "metadata": {
        "id": "oMyIuIThsh-l",
        "colab_type": "text"
      },
      "source": [
        "Drop all columns, except 'Global_active_power' and dt in order to make univariate data. "
      ]
    },
    {
      "cell_type": "code",
      "metadata": {
        "id": "f9dRNeFAsfte",
        "colab_type": "code",
        "colab": {}
      },
      "source": [
        "df = df.drop(columns = ['Global_reactive_power', 'Voltage', 'Global_intensity', 'Sub_metering_1', 'Sub_metering_2', 'Sub_metering_3']) "
      ],
      "execution_count": null,
      "outputs": []
    },
    {
      "cell_type": "markdown",
      "metadata": {
        "id": "UitFEKrrtf7l",
        "colab_type": "text"
      },
      "source": [
        "Save the clean dataframe into a csv file"
      ]
    },
    {
      "cell_type": "code",
      "metadata": {
        "id": "AJt-jF9wtenu",
        "colab_type": "code",
        "colab": {}
      },
      "source": [
        "df.to_csv(r'/content/drive/My Drive/Dicoding/Belajar Pengembangan Machine Learning/household_power_consumption.csv', index = True)"
      ],
      "execution_count": null,
      "outputs": []
    },
    {
      "cell_type": "code",
      "metadata": {
        "id": "V7mSnNs_tp3O",
        "colab_type": "code",
        "colab": {
          "base_uri": "https://localhost:8080/",
          "height": 225
        },
        "outputId": "23d31f56-9241-4118-ef33-5f53ec67cb9c"
      },
      "source": [
        "df.head()"
      ],
      "execution_count": null,
      "outputs": [
        {
          "output_type": "execute_result",
          "data": {
            "text/html": [
              "<div>\n",
              "<style scoped>\n",
              "    .dataframe tbody tr th:only-of-type {\n",
              "        vertical-align: middle;\n",
              "    }\n",
              "\n",
              "    .dataframe tbody tr th {\n",
              "        vertical-align: top;\n",
              "    }\n",
              "\n",
              "    .dataframe thead th {\n",
              "        text-align: right;\n",
              "    }\n",
              "</style>\n",
              "<table border=\"1\" class=\"dataframe\">\n",
              "  <thead>\n",
              "    <tr style=\"text-align: right;\">\n",
              "      <th></th>\n",
              "      <th>Global_active_power</th>\n",
              "    </tr>\n",
              "    <tr>\n",
              "      <th>dt</th>\n",
              "      <th></th>\n",
              "    </tr>\n",
              "  </thead>\n",
              "  <tbody>\n",
              "    <tr>\n",
              "      <th>2006-12-16 17:24:00</th>\n",
              "      <td>4.216</td>\n",
              "    </tr>\n",
              "    <tr>\n",
              "      <th>2006-12-16 17:25:00</th>\n",
              "      <td>5.360</td>\n",
              "    </tr>\n",
              "    <tr>\n",
              "      <th>2006-12-16 17:26:00</th>\n",
              "      <td>5.374</td>\n",
              "    </tr>\n",
              "    <tr>\n",
              "      <th>2006-12-16 17:27:00</th>\n",
              "      <td>5.388</td>\n",
              "    </tr>\n",
              "    <tr>\n",
              "      <th>2006-12-16 17:28:00</th>\n",
              "      <td>3.666</td>\n",
              "    </tr>\n",
              "  </tbody>\n",
              "</table>\n",
              "</div>"
            ],
            "text/plain": [
              "                     Global_active_power\n",
              "dt                                      \n",
              "2006-12-16 17:24:00                4.216\n",
              "2006-12-16 17:25:00                5.360\n",
              "2006-12-16 17:26:00                5.374\n",
              "2006-12-16 17:27:00                5.388\n",
              "2006-12-16 17:28:00                3.666"
            ]
          },
          "metadata": {
            "tags": []
          },
          "execution_count": 8
        }
      ]
    },
    {
      "cell_type": "markdown",
      "metadata": {
        "id": "2G1giZuSulQr",
        "colab_type": "text"
      },
      "source": [
        "Convert the data into numpy array."
      ]
    },
    {
      "cell_type": "code",
      "metadata": {
        "colab_type": "code",
        "id": "NcG9r1eClbTh",
        "colab": {}
      },
      "source": [
        "import csv\n",
        "time_step = []\n",
        "active_power = []\n",
        "\n",
        "with open('/content/drive/My Drive/Dicoding/Belajar Pengembangan Machine Learning/household_power_consumption.csv') as csvfile:\n",
        "  reader = csv.reader(csvfile, delimiter=',')\n",
        "  next(reader)\n",
        "  i = 0\n",
        "  for row in reader:\n",
        "    active_power.append(float(row[1]))\n",
        "    time_step.append(i)\n",
        "    i += 1\n",
        "\n",
        "series = np.array(active_power)\n",
        "time = np.array(time_step)"
      ],
      "execution_count": null,
      "outputs": []
    },
    {
      "cell_type": "markdown",
      "metadata": {
        "id": "K7QD6Y9Lt48z",
        "colab_type": "text"
      },
      "source": [
        "Function to visualize the data"
      ]
    },
    {
      "cell_type": "code",
      "metadata": {
        "colab_type": "code",
        "id": "sLl52leVp5wU",
        "colab": {}
      },
      "source": [
        "def plot_series(time, series, format=\"-\", start=0, end=None):\n",
        "    plt.plot(time[start:end], series[start:end], format)\n",
        "    plt.xlabel(\"Time\")\n",
        "    plt.ylabel(\"Value\")\n",
        "    plt.grid(True)"
      ],
      "execution_count": null,
      "outputs": []
    },
    {
      "cell_type": "code",
      "metadata": {
        "id": "JMPFNZIk1VuG",
        "colab_type": "code",
        "colab": {
          "base_uri": "https://localhost:8080/",
          "height": 388
        },
        "outputId": "45b6ffbd-5de0-4e23-b22e-a6288d1d2607"
      },
      "source": [
        "plt.figure(figsize=(10, 6))\n",
        "plot_series(time, series)"
      ],
      "execution_count": null,
      "outputs": [
        {
          "output_type": "display_data",
          "data": {
            "image/png": "[encoded data removed]",
            "text/plain": [
              "<Figure size 720x432 with 1 Axes>"
            ]
          },
          "metadata": {
            "tags": [],
            "needs_background": "light"
          }
        }
      ]
    },
    {
      "cell_type": "markdown",
      "metadata": {
        "id": "5d3BYRosu3yY",
        "colab_type": "text"
      },
      "source": [
        "I have tried to train the model using all the data (about 2 million rows) and it took a lot of time. Moreover, I experienced too many timeouts when I trained the model. So, now I will reduce the rows to 20000 only, because the minimum data written on the requirement for the submission is 10000. "
      ]
    },
    {
      "cell_type": "code",
      "metadata": {
        "id": "muAs-JjUfAuW",
        "colab_type": "code",
        "colab": {}
      },
      "source": [
        "series = series[1900000:1920000]\n",
        "time = time[1900000:1920000]"
      ],
      "execution_count": null,
      "outputs": []
    },
    {
      "cell_type": "code",
      "metadata": {
        "id": "zMSKUK96vydj",
        "colab_type": "code",
        "colab": {
          "base_uri": "https://localhost:8080/",
          "height": 388
        },
        "outputId": "5f6b62c2-5a31-407c-f916-3da217cfcda0"
      },
      "source": [
        "plt.figure(figsize=(10, 6))\n",
        "plot_series(time, series)"
      ],
      "execution_count": null,
      "outputs": [
        {
          "output_type": "display_data",
          "data": {
            "image/png": "[encoded data removed]",
            "text/plain": [
              "<Figure size 720x432 with 1 Axes>"
            ]
          },
          "metadata": {
            "tags": [],
            "needs_background": "light"
          }
        }
      ]
    },
    {
      "cell_type": "markdown",
      "metadata": {
        "id": "5QEQepe3v5aA",
        "colab_type": "text"
      },
      "source": [
        "Split the rows into train and validation data. (Train = 80%, Validation = 20%)"
      ]
    },
    {
      "cell_type": "code",
      "metadata": {
        "colab_type": "code",
        "id": "L92YRw_IpCFG",
        "colab": {}
      },
      "source": [
        "split_time = int(0.8*len(time))\n",
        "time_train = time[:split_time]\n",
        "x_train = series[:split_time]\n",
        "time_valid = time[split_time:]\n",
        "x_valid = series[split_time:]\n",
        "\n",
        "window_size = 60\n",
        "batch_size = 32\n",
        "shuffle_buffer_size = 1000\n"
      ],
      "execution_count": null,
      "outputs": []
    },
    {
      "cell_type": "markdown",
      "metadata": {
        "id": "6KPILEfgwMsS",
        "colab_type": "text"
      },
      "source": [
        "Function for converting array into windowed dataset"
      ]
    },
    {
      "cell_type": "code",
      "metadata": {
        "colab_type": "code",
        "id": "lJwUUZscnG38",
        "colab": {}
      },
      "source": [
        "def windowed_dataset(series, window_size, batch_size, shuffle_buffer):\n",
        "    series = tf.expand_dims(series, axis=-1)\n",
        "    ds = tf.data.Dataset.from_tensor_slices(series)\n",
        "    ds = ds.window(window_size + 1, shift=1, drop_remainder=True)\n",
        "    ds = ds.flat_map(lambda w: w.batch(window_size + 1))\n",
        "    ds = ds.shuffle(shuffle_buffer)\n",
        "    ds = ds.map(lambda w: (w[:-1], w[1:]))\n",
        "    return ds.batch(batch_size).prefetch(1)"
      ],
      "execution_count": null,
      "outputs": []
    },
    {
      "cell_type": "markdown",
      "metadata": {
        "id": "MFmEifinybmw",
        "colab_type": "text"
      },
      "source": [
        "Function for forecasting after we train the model."
      ]
    },
    {
      "cell_type": "code",
      "metadata": {
        "colab_type": "code",
        "id": "AclfYY3Mn6Ph",
        "colab": {}
      },
      "source": [
        "def model_forecast(model, series, window_size):\n",
        "    ds = tf.data.Dataset.from_tensor_slices(series)\n",
        "    ds = ds.window(window_size, shift=1, drop_remainder=True)\n",
        "    ds = ds.flat_map(lambda w: w.batch(window_size))\n",
        "    ds = ds.batch(32).prefetch(1)\n",
        "    forecast = model.predict(ds)\n",
        "    return forecast"
      ],
      "execution_count": null,
      "outputs": []
    },
    {
      "cell_type": "markdown",
      "metadata": {
        "id": "hH76eTS8wyBX",
        "colab_type": "text"
      },
      "source": [
        "Design the model using LSTM."
      ]
    },
    {
      "cell_type": "code",
      "metadata": {
        "colab_type": "code",
        "id": "GaC6NNMRp0lb",
        "colab": {}
      },
      "source": [
        "tf.keras.backend.clear_session()\n",
        "tf.random.set_seed(51)\n",
        "np.random.seed(51)\n",
        "train_set = windowed_dataset(x_train, window_size=60, batch_size=100, shuffle_buffer=shuffle_buffer_size)\n",
        "model = tf.keras.models.Sequential([\n",
        "  tf.keras.layers.Conv1D(filters=60, kernel_size=5,\n",
        "                      strides=1, padding=\"causal\",\n",
        "                      activation=\"relu\",\n",
        "                      input_shape=[None, 1]),\n",
        "  tf.keras.layers.LSTM(64, return_sequences=True),\n",
        "  tf.keras.layers.LSTM(64, return_sequences=True),\n",
        "  tf.keras.layers.Dense(30, activation=\"relu\"),\n",
        "  tf.keras.layers.Dense(10, activation=\"relu\"),\n",
        "  tf.keras.layers.Dense(1),\n",
        "  tf.keras.layers.Lambda(lambda x: x * 400)\n",
        "])"
      ],
      "execution_count": null,
      "outputs": []
    },
    {
      "cell_type": "markdown",
      "metadata": {
        "id": "MbIM8S4hzZLv",
        "colab_type": "text"
      },
      "source": [
        "Train the model"
      ]
    },
    {
      "cell_type": "code",
      "metadata": {
        "id": "BVGUWxhmzYR3",
        "colab_type": "code",
        "colab": {
          "base_uri": "https://localhost:8080/",
          "height": 1000
        },
        "outputId": "b1c40a72-6e0f-4242-fa84-9d4d979be29a"
      },
      "source": [
        "lr_schedule = tf.keras.callbacks.LearningRateScheduler(\n",
        "    lambda epoch: 1e-8 * 10**(epoch / 20))\n",
        "es = EarlyStopping(monitor='mae', mode='min', patience=2)\n",
        "optimizer = tf.keras.optimizers.SGD(lr=1e-5, momentum=0.9)\n",
        "model.compile(loss=tf.keras.losses.Huber(),\n",
        "              optimizer=optimizer,\n",
        "              metrics=[\"mae\"])\n",
        "history = model.fit(train_set,epochs=100,callbacks=[es, lr_schedule])"
      ],
      "execution_count": null,
      "outputs": [
        {
          "output_type": "stream",
          "text": [
            "Epoch 1/100\n",
            "160/160 [==============================] - 5s 33ms/step - loss: 0.3008 - mae: 0.6110\n",
            "Epoch 2/100\n",
            "160/160 [==============================] - 5s 33ms/step - loss: 0.2073 - mae: 0.4668\n",
            "Epoch 3/100\n",
            "160/160 [==============================] - 5s 34ms/step - loss: 0.1511 - mae: 0.3856\n",
            "Epoch 4/100\n",
            "160/160 [==============================] - 5s 34ms/step - loss: 0.1175 - mae: 0.3380\n",
            "Epoch 5/100\n",
            "160/160 [==============================] - 5s 34ms/step - loss: 0.0979 - mae: 0.3081\n",
            "Epoch 6/100\n",
            "160/160 [==============================] - 6s 35ms/step - loss: 0.0864 - mae: 0.2892\n",
            "Epoch 7/100\n",
            "160/160 [==============================] - 5s 34ms/step - loss: 0.0790 - mae: 0.2760\n",
            "Epoch 8/100\n",
            "160/160 [==============================] - 6s 35ms/step - loss: 0.0739 - mae: 0.2658\n",
            "Epoch 9/100\n",
            "160/160 [==============================] - 6s 36ms/step - loss: 0.0698 - mae: 0.2572\n",
            "Epoch 10/100\n",
            "160/160 [==============================] - 5s 34ms/step - loss: 0.0663 - mae: 0.2495\n",
            "Epoch 11/100\n",
            "160/160 [==============================] - 5s 34ms/step - loss: 0.0633 - mae: 0.2428\n",
            "Epoch 12/100\n",
            "160/160 [==============================] - 5s 33ms/step - loss: 0.0607 - mae: 0.2368\n",
            "Epoch 13/100\n",
            "160/160 [==============================] - 5s 33ms/step - loss: 0.0583 - mae: 0.2316\n",
            "Epoch 14/100\n",
            "160/160 [==============================] - 5s 34ms/step - loss: 0.0562 - mae: 0.2272\n",
            "Epoch 15/100\n",
            "160/160 [==============================] - 5s 34ms/step - loss: 0.0542 - mae: 0.2232\n",
            "Epoch 16/100\n",
            "160/160 [==============================] - 5s 34ms/step - loss: 0.0525 - mae: 0.2199\n",
            "Epoch 17/100\n",
            "160/160 [==============================] - 6s 34ms/step - loss: 0.0509 - mae: 0.2166\n",
            "Epoch 18/100\n",
            "160/160 [==============================] - 6s 34ms/step - loss: 0.0496 - mae: 0.2140\n",
            "Epoch 19/100\n",
            "160/160 [==============================] - 5s 34ms/step - loss: 0.0483 - mae: 0.2114\n",
            "Epoch 20/100\n",
            "160/160 [==============================] - 6s 35ms/step - loss: 0.0473 - mae: 0.2095\n",
            "Epoch 21/100\n",
            "160/160 [==============================] - 5s 34ms/step - loss: 0.0464 - mae: 0.2081\n",
            "Epoch 22/100\n",
            "160/160 [==============================] - 6s 35ms/step - loss: 0.0455 - mae: 0.2064\n",
            "Epoch 23/100\n",
            "160/160 [==============================] - 5s 33ms/step - loss: 0.0447 - mae: 0.2048\n",
            "Epoch 24/100\n",
            "160/160 [==============================] - 5s 33ms/step - loss: 0.0438 - mae: 0.2030\n",
            "Epoch 25/100\n",
            "160/160 [==============================] - 5s 34ms/step - loss: 0.0430 - mae: 0.2013\n",
            "Epoch 26/100\n",
            "160/160 [==============================] - 5s 33ms/step - loss: 0.0422 - mae: 0.1993\n",
            "Epoch 27/100\n",
            "160/160 [==============================] - 5s 33ms/step - loss: 0.0414 - mae: 0.1971\n",
            "Epoch 28/100\n",
            "160/160 [==============================] - 5s 33ms/step - loss: 0.0404 - mae: 0.1943\n",
            "Epoch 29/100\n",
            "160/160 [==============================] - 6s 35ms/step - loss: 0.0391 - mae: 0.1900\n",
            "Epoch 30/100\n",
            "160/160 [==============================] - 5s 34ms/step - loss: 0.0377 - mae: 0.1846\n",
            "Epoch 31/100\n",
            "160/160 [==============================] - 5s 33ms/step - loss: 0.0367 - mae: 0.1811\n",
            "Epoch 32/100\n",
            "160/160 [==============================] - 5s 33ms/step - loss: 0.0358 - mae: 0.1782\n",
            "Epoch 33/100\n",
            "160/160 [==============================] - 5s 33ms/step - loss: 0.0349 - mae: 0.1755\n",
            "Epoch 34/100\n",
            "160/160 [==============================] - 5s 32ms/step - loss: 0.0341 - mae: 0.1731\n",
            "Epoch 35/100\n",
            "160/160 [==============================] - 5s 33ms/step - loss: 0.0334 - mae: 0.1706\n",
            "Epoch 36/100\n",
            "160/160 [==============================] - 5s 33ms/step - loss: 0.0327 - mae: 0.1684\n",
            "Epoch 37/100\n",
            "160/160 [==============================] - 5s 33ms/step - loss: 0.0320 - mae: 0.1664\n",
            "Epoch 38/100\n",
            "160/160 [==============================] - 5s 34ms/step - loss: 0.0314 - mae: 0.1648\n",
            "Epoch 39/100\n",
            "160/160 [==============================] - 5s 33ms/step - loss: 0.0308 - mae: 0.1633\n",
            "Epoch 40/100\n",
            "160/160 [==============================] - 5s 33ms/step - loss: 0.0302 - mae: 0.1618\n",
            "Epoch 41/100\n",
            "160/160 [==============================] - 5s 33ms/step - loss: 0.0296 - mae: 0.1600\n",
            "Epoch 42/100\n",
            "160/160 [==============================] - 5s 33ms/step - loss: 0.0290 - mae: 0.1585\n",
            "Epoch 43/100\n",
            "160/160 [==============================] - 5s 33ms/step - loss: 0.0284 - mae: 0.1568\n",
            "Epoch 44/100\n",
            "160/160 [==============================] - 5s 33ms/step - loss: 0.0277 - mae: 0.1546\n",
            "Epoch 45/100\n",
            "160/160 [==============================] - 5s 33ms/step - loss: 0.0270 - mae: 0.1525\n",
            "Epoch 46/100\n",
            "160/160 [==============================] - 5s 33ms/step - loss: 0.0266 - mae: 0.1518\n",
            "Epoch 47/100\n",
            "160/160 [==============================] - 6s 34ms/step - loss: 0.0257 - mae: 0.1490\n",
            "Epoch 48/100\n",
            "160/160 [==============================] - 5s 32ms/step - loss: 0.0252 - mae: 0.1480\n",
            "Epoch 49/100\n",
            "160/160 [==============================] - 6s 35ms/step - loss: 0.0245 - mae: 0.1459\n",
            "Epoch 50/100\n",
            "160/160 [==============================] - 5s 33ms/step - loss: 0.0235 - mae: 0.1418\n",
            "Epoch 51/100\n",
            "160/160 [==============================] - 6s 35ms/step - loss: 0.0229 - mae: 0.1406\n",
            "Epoch 52/100\n",
            "160/160 [==============================] - 6s 35ms/step - loss: 0.0220 - mae: 0.1374\n",
            "Epoch 53/100\n",
            "160/160 [==============================] - 5s 33ms/step - loss: 0.0227 - mae: 0.1434\n",
            "Epoch 54/100\n",
            "160/160 [==============================] - 5s 33ms/step - loss: 0.0257 - mae: 0.1607\n"
          ],
          "name": "stdout"
        }
      ]
    },
    {
      "cell_type": "markdown",
      "metadata": {
        "id": "AImtN9YPypsJ",
        "colab_type": "text"
      },
      "source": [
        "Forecasting using validation data."
      ]
    },
    {
      "cell_type": "code",
      "metadata": {
        "id": "4GPanUj0mr4Q",
        "colab_type": "code",
        "colab": {}
      },
      "source": [
        "rnn_forecast = model_forecast(model, series[..., np.newaxis], window_size)\n",
        "rnn_forecast = rnn_forecast[split_time - window_size:-1, -1, 0]"
      ],
      "execution_count": null,
      "outputs": []
    },
    {
      "cell_type": "code",
      "metadata": {
        "id": "cNxAoc9Imt2T",
        "colab_type": "code",
        "colab": {
          "base_uri": "https://localhost:8080/",
          "height": 388
        },
        "outputId": "7a5a7532-78c5-4e29-ae83-bbc1f9658bab"
      },
      "source": [
        "plt.figure(figsize=(10, 6))\n",
        "plot_series(time_valid, x_valid)\n",
        "plot_series(time_valid, rnn_forecast)"
      ],
      "execution_count": null,
      "outputs": [
        {
          "output_type": "display_data",
          "data": {
            "image/png": "[encoded data removed]",
            "text/plain": [
              "<Figure size 720x432 with 1 Axes>"
            ]
          },
          "metadata": {
            "tags": [],
            "needs_background": "light"
          }
        }
      ]
    },
    {
      "cell_type": "markdown",
      "metadata": {
        "id": "7H66wNoYy7kr",
        "colab_type": "text"
      },
      "source": [
        "Calculate the MAE of the validation."
      ]
    },
    {
      "cell_type": "code",
      "metadata": {
        "id": "U4AdfTuYmwhE",
        "colab_type": "code",
        "colab": {
          "base_uri": "https://localhost:8080/",
          "height": 34
        },
        "outputId": "7e926e4e-5900-48a9-b718-7d507dc88da9"
      },
      "source": [
        "tf.keras.metrics.mean_absolute_error(x_valid, rnn_forecast).numpy()"
      ],
      "execution_count": null,
      "outputs": [
        {
          "output_type": "execute_result",
          "data": {
            "text/plain": [
              "0.13818748"
            ]
          },
          "metadata": {
            "tags": []
          },
          "execution_count": 21
        }
      ]
    },
    {
      "cell_type": "code",
      "metadata": {
        "id": "TiQcDyVx0Tw4",
        "colab_type": "code",
        "colab": {
          "base_uri": "https://localhost:8080/",
          "height": 295
        },
        "outputId": "6c18bbf5-8fda-4cba-d8f3-cf19a5ee8888"
      },
      "source": [
        "import matplotlib.pyplot as plt\n",
        "\n",
        "# summarize history for accuracy\n",
        "plt.plot(history.history['loss'])\n",
        "plt.plot(history.history['mae'])\n",
        "plt.title('model loss')\n",
        "plt.ylabel('loss')\n",
        "plt.xlabel('epoch')\n",
        "plt.legend(['train', 'validation'], loc='upper left')\n",
        "plt.show()"
      ],
      "execution_count": null,
      "outputs": [
        {
          "output_type": "display_data",
          "data": {
            "image/png": "[encoded data removed]",
            "text/plain": [
              "<Figure size 432x288 with 1 Axes>"
            ]
          },
          "metadata": {
            "tags": [],
            "needs_background": "light"
          }
        }
      ]
    },
    {
      "cell_type": "code",
      "metadata": {
        "id": "p6vc8Wkx7MMN",
        "colab_type": "code",
        "colab": {}
      },
      "source": [
        ""
      ],
      "execution_count": null,
      "outputs": []
    }
  ]
}